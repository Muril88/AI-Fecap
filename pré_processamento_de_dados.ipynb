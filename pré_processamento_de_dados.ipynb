{
  "nbformat": 4,
  "nbformat_minor": 0,
  "metadata": {
    "colab": {
      "name": "pré processamento de dados ",
      "provenance": [],
      "authorship_tag": "ABX9TyOhNLbhlgFNAutyNlNovSk7",
      "include_colab_link": true
    },
    "kernelspec": {
      "name": "python3",
      "display_name": "Python 3"
    },
    "language_info": {
      "name": "python"
    }
  },
  "cells": [
    {
      "cell_type": "markdown",
      "metadata": {
        "id": "view-in-github",
        "colab_type": "text"
      },
      "source": [
        "<a href=\"https://colab.research.google.com/github/Muril88/AI-Fecap/blob/main/pr%C3%A9_processamento_de_dados.ipynb\" target=\"_parent\"><img src=\"https://colab.research.google.com/assets/colab-badge.svg\" alt=\"Open In Colab\"/></a>"
      ]
    },
    {
      "cell_type": "code",
      "metadata": {
        "id": "RPTCaAiePW-v"
      },
      "source": [
        "import pandas as pd "
      ],
      "execution_count": 3,
      "outputs": []
    },
    {
      "cell_type": "code",
      "metadata": {
        "id": "7kZjcfRHPtJa"
      },
      "source": [
        "dic = {\"nome\":[\"isa\",\"Peter\",\"x\"],\n",
        "       \"idade\":[\"19\",\"28\",\"0\"],\n",
        "       \"salario\":[\"19000\",\"5000\",\"100\"],\n",
        "       \"genero\":[\"F\", \"M\", \"honda4porta\"],\n",
        "       \"cargo\":[\"gerente\", \"supervisor\",\"\"]\n",
        "    \n",
        "\n",
        "}"
      ],
      "execution_count": 11,
      "outputs": []
    },
    {
      "cell_type": "code",
      "metadata": {
        "colab": {
          "base_uri": "https://localhost:8080/",
          "height": 142
        },
        "id": "rtd1nM6aP2Hb",
        "outputId": "db7c77f9-5895-4190-d332-32057acc665c"
      },
      "source": [
        "df = pd.DataFrame(dic)\n",
        "df"
      ],
      "execution_count": 12,
      "outputs": [
        {
          "output_type": "execute_result",
          "data": {
            "text/html": [
              "<div>\n",
              "<style scoped>\n",
              "    .dataframe tbody tr th:only-of-type {\n",
              "        vertical-align: middle;\n",
              "    }\n",
              "\n",
              "    .dataframe tbody tr th {\n",
              "        vertical-align: top;\n",
              "    }\n",
              "\n",
              "    .dataframe thead th {\n",
              "        text-align: right;\n",
              "    }\n",
              "</style>\n",
              "<table border=\"1\" class=\"dataframe\">\n",
              "  <thead>\n",
              "    <tr style=\"text-align: right;\">\n",
              "      <th></th>\n",
              "      <th>nome</th>\n",
              "      <th>idade</th>\n",
              "      <th>salario</th>\n",
              "      <th>genero</th>\n",
              "      <th>cargo</th>\n",
              "    </tr>\n",
              "  </thead>\n",
              "  <tbody>\n",
              "    <tr>\n",
              "      <th>0</th>\n",
              "      <td>isa</td>\n",
              "      <td>19</td>\n",
              "      <td>19000</td>\n",
              "      <td>F</td>\n",
              "      <td>gerente</td>\n",
              "    </tr>\n",
              "    <tr>\n",
              "      <th>1</th>\n",
              "      <td>Peter</td>\n",
              "      <td>28</td>\n",
              "      <td>5000</td>\n",
              "      <td>M</td>\n",
              "      <td>supervisor</td>\n",
              "    </tr>\n",
              "    <tr>\n",
              "      <th>2</th>\n",
              "      <td>x</td>\n",
              "      <td>0</td>\n",
              "      <td>100</td>\n",
              "      <td>honda4porta</td>\n",
              "      <td></td>\n",
              "    </tr>\n",
              "  </tbody>\n",
              "</table>\n",
              "</div>"
            ],
            "text/plain": [
              "    nome idade salario       genero       cargo\n",
              "0    isa    19   19000            F     gerente\n",
              "1  Peter    28    5000            M  supervisor\n",
              "2      x     0     100  honda4porta            "
            ]
          },
          "metadata": {},
          "execution_count": 12
        }
      ]
    },
    {
      "cell_type": "code",
      "metadata": {
        "colab": {
          "base_uri": "https://localhost:8080/"
        },
        "id": "_In9TJXlS72B",
        "outputId": "5b8cf675-6bd1-44e3-8dec-c96f2887edd3"
      },
      "source": [
        "print(df)"
      ],
      "execution_count": 13,
      "outputs": [
        {
          "output_type": "stream",
          "name": "stdout",
          "text": [
            "    nome idade salario       genero       cargo\n",
            "0    isa    19   19000            F     gerente\n",
            "1  Peter    28    5000            M  supervisor\n",
            "2      x     0     100  honda4porta            \n"
          ]
        }
      ]
    },
    {
      "cell_type": "code",
      "metadata": {
        "colab": {
          "base_uri": "https://localhost:8080/"
        },
        "id": "0qmvLftETGY3",
        "outputId": "86f64325-e2e6-43eb-e59f-82f2667f8966"
      },
      "source": [
        "df.info"
      ],
      "execution_count": 14,
      "outputs": [
        {
          "output_type": "execute_result",
          "data": {
            "text/plain": [
              "<bound method DataFrame.info of     nome idade salario       genero       cargo\n",
              "0    isa    19   19000            F     gerente\n",
              "1  Peter    28    5000            M  supervisor\n",
              "2      x     0     100  honda4porta            >"
            ]
          },
          "metadata": {},
          "execution_count": 14
        }
      ]
    },
    {
      "cell_type": "code",
      "metadata": {
        "id": "qbUrvNFtTmcG"
      },
      "source": [
        "df = pd.get_dummies(df,columns=[\"genero\"])"
      ],
      "execution_count": 17,
      "outputs": []
    },
    {
      "cell_type": "code",
      "metadata": {
        "colab": {
          "base_uri": "https://localhost:8080/",
          "height": 142
        },
        "id": "8Hmq6J5xUKxO",
        "outputId": "53d7c15b-e372-4d44-8e02-722117086ff3"
      },
      "source": [
        "df"
      ],
      "execution_count": 18,
      "outputs": [
        {
          "output_type": "execute_result",
          "data": {
            "text/html": [
              "<div>\n",
              "<style scoped>\n",
              "    .dataframe tbody tr th:only-of-type {\n",
              "        vertical-align: middle;\n",
              "    }\n",
              "\n",
              "    .dataframe tbody tr th {\n",
              "        vertical-align: top;\n",
              "    }\n",
              "\n",
              "    .dataframe thead th {\n",
              "        text-align: right;\n",
              "    }\n",
              "</style>\n",
              "<table border=\"1\" class=\"dataframe\">\n",
              "  <thead>\n",
              "    <tr style=\"text-align: right;\">\n",
              "      <th></th>\n",
              "      <th>nome</th>\n",
              "      <th>idade</th>\n",
              "      <th>salario</th>\n",
              "      <th>cargo</th>\n",
              "      <th>genero_F</th>\n",
              "      <th>genero_M</th>\n",
              "      <th>genero_honda4porta</th>\n",
              "    </tr>\n",
              "  </thead>\n",
              "  <tbody>\n",
              "    <tr>\n",
              "      <th>0</th>\n",
              "      <td>isa</td>\n",
              "      <td>19</td>\n",
              "      <td>19000</td>\n",
              "      <td>gerente</td>\n",
              "      <td>1</td>\n",
              "      <td>0</td>\n",
              "      <td>0</td>\n",
              "    </tr>\n",
              "    <tr>\n",
              "      <th>1</th>\n",
              "      <td>Peter</td>\n",
              "      <td>28</td>\n",
              "      <td>5000</td>\n",
              "      <td>supervisor</td>\n",
              "      <td>0</td>\n",
              "      <td>1</td>\n",
              "      <td>0</td>\n",
              "    </tr>\n",
              "    <tr>\n",
              "      <th>2</th>\n",
              "      <td>x</td>\n",
              "      <td>0</td>\n",
              "      <td>100</td>\n",
              "      <td></td>\n",
              "      <td>0</td>\n",
              "      <td>0</td>\n",
              "      <td>1</td>\n",
              "    </tr>\n",
              "  </tbody>\n",
              "</table>\n",
              "</div>"
            ],
            "text/plain": [
              "    nome idade salario       cargo  genero_F  genero_M  genero_honda4porta\n",
              "0    isa    19   19000     gerente         1         0                   0\n",
              "1  Peter    28    5000  supervisor         0         1                   0\n",
              "2      x     0     100                     0         0                   1"
            ]
          },
          "metadata": {},
          "execution_count": 18
        }
      ]
    },
    {
      "cell_type": "code",
      "metadata": {
        "id": "rtnAIB7UUqRj"
      },
      "source": [
        "df = df.drop(columns=[\"cargo\"])"
      ],
      "execution_count": 19,
      "outputs": []
    },
    {
      "cell_type": "code",
      "metadata": {
        "colab": {
          "base_uri": "https://localhost:8080/",
          "height": 142
        },
        "id": "Ic0gwKWkU3zq",
        "outputId": "b06e43ad-f943-4050-ca2b-46e208359c67"
      },
      "source": [
        "df\n"
      ],
      "execution_count": 20,
      "outputs": [
        {
          "output_type": "execute_result",
          "data": {
            "text/html": [
              "<div>\n",
              "<style scoped>\n",
              "    .dataframe tbody tr th:only-of-type {\n",
              "        vertical-align: middle;\n",
              "    }\n",
              "\n",
              "    .dataframe tbody tr th {\n",
              "        vertical-align: top;\n",
              "    }\n",
              "\n",
              "    .dataframe thead th {\n",
              "        text-align: right;\n",
              "    }\n",
              "</style>\n",
              "<table border=\"1\" class=\"dataframe\">\n",
              "  <thead>\n",
              "    <tr style=\"text-align: right;\">\n",
              "      <th></th>\n",
              "      <th>nome</th>\n",
              "      <th>idade</th>\n",
              "      <th>salario</th>\n",
              "      <th>genero_F</th>\n",
              "      <th>genero_M</th>\n",
              "      <th>genero_honda4porta</th>\n",
              "    </tr>\n",
              "  </thead>\n",
              "  <tbody>\n",
              "    <tr>\n",
              "      <th>0</th>\n",
              "      <td>isa</td>\n",
              "      <td>19</td>\n",
              "      <td>19000</td>\n",
              "      <td>1</td>\n",
              "      <td>0</td>\n",
              "      <td>0</td>\n",
              "    </tr>\n",
              "    <tr>\n",
              "      <th>1</th>\n",
              "      <td>Peter</td>\n",
              "      <td>28</td>\n",
              "      <td>5000</td>\n",
              "      <td>0</td>\n",
              "      <td>1</td>\n",
              "      <td>0</td>\n",
              "    </tr>\n",
              "    <tr>\n",
              "      <th>2</th>\n",
              "      <td>x</td>\n",
              "      <td>0</td>\n",
              "      <td>100</td>\n",
              "      <td>0</td>\n",
              "      <td>0</td>\n",
              "      <td>1</td>\n",
              "    </tr>\n",
              "  </tbody>\n",
              "</table>\n",
              "</div>"
            ],
            "text/plain": [
              "    nome idade salario  genero_F  genero_M  genero_honda4porta\n",
              "0    isa    19   19000         1         0                   0\n",
              "1  Peter    28    5000         0         1                   0\n",
              "2      x     0     100         0         0                   1"
            ]
          },
          "metadata": {},
          "execution_count": 20
        }
      ]
    }
  ]
}